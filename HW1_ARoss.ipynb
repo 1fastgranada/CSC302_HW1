{
  "nbformat": 4,
  "nbformat_minor": 0,
  "metadata": {
    "colab": {
      "provenance": [],
      "mount_file_id": "1YAscjj1bEraeMcBD4Mf8LyMM-UXPDp45",
      "authorship_tag": "ABX9TyONGJgwuMds3u2WXXlVDrbt",
      "include_colab_link": true
    },
    "kernelspec": {
      "name": "python3",
      "display_name": "Python 3"
    },
    "language_info": {
      "name": "python"
    }
  },
  "cells": [
    {
      "cell_type": "markdown",
      "metadata": {
        "id": "view-in-github",
        "colab_type": "text"
      },
      "source": [
        "<a href=\"https://colab.research.google.com/github/1fastgranada/CSC302_HW1/blob/main/HW1_ARoss.ipynb\" target=\"_parent\"><img src=\"https://colab.research.google.com/assets/colab-badge.svg\" alt=\"Open In Colab\"/></a>"
      ]
    },
    {
      "cell_type": "markdown",
      "source": [
        "1. Create a GitHub if you don’t have and provide your user name as a text submission.\n",
        "  * GitHub user is ***1FastGranada***\n",
        "  \n",
        "    https://github.com/1fastgranada/\n",
        "2. Use pandas to read the olympic_medals.csv from the DATA folder on Google Drive. Then perform the followings by\n",
        "using pandas and/or Python built-in functions.\n",
        "\n",
        "  (a) Find the size of the data frame. How many rows, how many columns?\n",
        "  * *Based on the output from .info(), there are 2394 rows and 8 columns in this dataset.*\n",
        "\n",
        "  (b) Use the appropriate function to report the data types for all columns.\n",
        "  * *Based on the output from .info(), we can see all columns are object data types with the exception of \"year\", which is int64*\n",
        "\n",
        "  (c) Find how many unique cities matches were held at. (Hint: unique( ). For instance, the following example tells\n",
        "how many unique Events held:)\n",
        "len(medals['Event'].unique())\n",
        "  * *There are 23 unique cities where matches were held at.*\n",
        "\n",
        "  (d) Find how many medals the USA team won in total.\n",
        "  * *The USA team won 638 medals.*\n",
        "\n",
        "  (e) Find the total number of medals for each Nationality. (Hint: please search for groupby() function with count.\n",
        "For instance, the following example counts at how many locations each event was held. )\n",
        "medals.groupby(by='Event')['Location'].count()\n",
        "  * *Please see the output below for total number of medals for each Nationality*"
      ],
      "metadata": {
        "id": "xt2jh4JNJnw8"
      }
    },
    {
      "cell_type": "code",
      "execution_count": 6,
      "metadata": {
        "colab": {
          "base_uri": "https://localhost:8080/"
        },
        "id": "NXoWy09bJdEz",
        "outputId": "3c408e51-7246-4fcb-9ce8-f16e2e033be0"
      },
      "outputs": [
        {
          "output_type": "stream",
          "name": "stdout",
          "text": [
            "<class 'pandas.core.frame.DataFrame'>\n",
            "RangeIndex: 2394 entries, 0 to 2393\n",
            "Data columns (total 8 columns):\n",
            " #   Column       Non-Null Count  Dtype \n",
            "---  ------       --------------  ----- \n",
            " 0   Gender       2394 non-null   object\n",
            " 1   Event        2394 non-null   object\n",
            " 2   Location     2394 non-null   object\n",
            " 3   Year         2394 non-null   int64 \n",
            " 4   Medal        2394 non-null   object\n",
            " 5   Name         2164 non-null   object\n",
            " 6   Nationality  2394 non-null   object\n",
            " 7   Result       2351 non-null   object\n",
            "dtypes: int64(1), object(7)\n",
            "memory usage: 149.8+ KB\n"
          ]
        }
      ],
      "source": [
        "import pandas as pd\n",
        "\n",
        "medals = pd.read_csv(\"/content/drive/MyDrive/DATA/olympic_medals.csv\")\n",
        "medals.info()"
      ]
    },
    {
      "cell_type": "markdown",
      "source": [
        "Based on the output from .info():\n",
        "* There are 2394 rows and 8 columns in this dataset.\n",
        "* We can see all columns are object data types with the exception of \"year\", which is int64"
      ],
      "metadata": {
        "id": "CnYuzdoDFUKR"
      }
    },
    {
      "cell_type": "code",
      "source": [
        "len(medals['Location'].unique())"
      ],
      "metadata": {
        "colab": {
          "base_uri": "https://localhost:8080/"
        },
        "id": "Zys7x4D436Zb",
        "outputId": "d471792a-aff6-4b65-bc66-3e9a4ab1035b"
      },
      "execution_count": 7,
      "outputs": [
        {
          "output_type": "execute_result",
          "data": {
            "text/plain": [
              "23"
            ]
          },
          "metadata": {},
          "execution_count": 7
        }
      ]
    },
    {
      "cell_type": "markdown",
      "source": [
        "There are 23 unique cities where matches were held at."
      ],
      "metadata": {
        "id": "h38O-BwyRLje"
      }
    },
    {
      "cell_type": "code",
      "source": [
        "len(medals.loc[medals['Nationality'] == 'USA'])"
      ],
      "metadata": {
        "colab": {
          "base_uri": "https://localhost:8080/"
        },
        "id": "LKDYNFyI9zOP",
        "outputId": "ce3b89d2-5417-4bf3-b236-41017a746938"
      },
      "execution_count": 17,
      "outputs": [
        {
          "output_type": "execute_result",
          "data": {
            "text/plain": [
              "638"
            ]
          },
          "metadata": {},
          "execution_count": 17
        }
      ]
    },
    {
      "cell_type": "markdown",
      "source": [
        "The USA team won 638 medals."
      ],
      "metadata": {
        "id": "wQDpyPIbRNrG"
      }
    },
    {
      "cell_type": "code",
      "source": [
        "medals.groupby(by='Nationality')['Medal'].count()"
      ],
      "metadata": {
        "colab": {
          "base_uri": "https://localhost:8080/",
          "height": 490
        },
        "id": "JEDVMOgh99Jo",
        "outputId": "c7008849-42e5-4785-c179-8f2733237a77"
      },
      "execution_count": 18,
      "outputs": [
        {
          "output_type": "execute_result",
          "data": {
            "text/plain": [
              "Nationality\n",
              "ALG      9\n",
              "ARG      4\n",
              "AUS     57\n",
              "AUT      4\n",
              "BAH     12\n",
              "      ... \n",
              "URS    131\n",
              "USA    638\n",
              "VEN      2\n",
              "YUG      1\n",
              "ZAM      1\n",
              "Name: Medal, Length: 97, dtype: int64"
            ],
            "text/html": [
              "<div>\n",
              "<style scoped>\n",
              "    .dataframe tbody tr th:only-of-type {\n",
              "        vertical-align: middle;\n",
              "    }\n",
              "\n",
              "    .dataframe tbody tr th {\n",
              "        vertical-align: top;\n",
              "    }\n",
              "\n",
              "    .dataframe thead th {\n",
              "        text-align: right;\n",
              "    }\n",
              "</style>\n",
              "<table border=\"1\" class=\"dataframe\">\n",
              "  <thead>\n",
              "    <tr style=\"text-align: right;\">\n",
              "      <th></th>\n",
              "      <th>Medal</th>\n",
              "    </tr>\n",
              "    <tr>\n",
              "      <th>Nationality</th>\n",
              "      <th></th>\n",
              "    </tr>\n",
              "  </thead>\n",
              "  <tbody>\n",
              "    <tr>\n",
              "      <th>ALG</th>\n",
              "      <td>9</td>\n",
              "    </tr>\n",
              "    <tr>\n",
              "      <th>ARG</th>\n",
              "      <td>4</td>\n",
              "    </tr>\n",
              "    <tr>\n",
              "      <th>AUS</th>\n",
              "      <td>57</td>\n",
              "    </tr>\n",
              "    <tr>\n",
              "      <th>AUT</th>\n",
              "      <td>4</td>\n",
              "    </tr>\n",
              "    <tr>\n",
              "      <th>BAH</th>\n",
              "      <td>12</td>\n",
              "    </tr>\n",
              "    <tr>\n",
              "      <th>...</th>\n",
              "      <td>...</td>\n",
              "    </tr>\n",
              "    <tr>\n",
              "      <th>URS</th>\n",
              "      <td>131</td>\n",
              "    </tr>\n",
              "    <tr>\n",
              "      <th>USA</th>\n",
              "      <td>638</td>\n",
              "    </tr>\n",
              "    <tr>\n",
              "      <th>VEN</th>\n",
              "      <td>2</td>\n",
              "    </tr>\n",
              "    <tr>\n",
              "      <th>YUG</th>\n",
              "      <td>1</td>\n",
              "    </tr>\n",
              "    <tr>\n",
              "      <th>ZAM</th>\n",
              "      <td>1</td>\n",
              "    </tr>\n",
              "  </tbody>\n",
              "</table>\n",
              "<p>97 rows × 1 columns</p>\n",
              "</div><br><label><b>dtype:</b> int64</label>"
            ]
          },
          "metadata": {},
          "execution_count": 18
        }
      ]
    }
  ]
}